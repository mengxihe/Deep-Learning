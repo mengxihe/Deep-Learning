{
  "nbformat": 4,
  "nbformat_minor": 0,
  "metadata": {
    "kernelspec": {
      "display_name": "Python 3",
      "language": "python",
      "name": "python3"
    },
    "language_info": {
      "codemirror_mode": {
        "name": "ipython",
        "version": 3
      },
      "file_extension": ".py",
      "mimetype": "text/x-python",
      "name": "python",
      "nbconvert_exporter": "python",
      "pygments_lexer": "ipython3",
      "version": "3.8.6"
    },
    "toc": {
      "base_numbering": 1,
      "nav_menu": {},
      "number_sections": false,
      "sideBar": false,
      "skip_h1_title": false,
      "title_cell": "Table of Contents",
      "title_sidebar": "Contents",
      "toc_cell": false,
      "toc_position": {
        "height": "830.4px",
        "left": "22px",
        "top": "121.6px",
        "width": "409.6px"
      },
      "toc_section_display": true,
      "toc_window_display": true
    },
    "colab": {
      "name": "ProgPractice1-stud.ipynb",
      "provenance": [],
      "include_colab_link": true
    }
  },
  "cells": [
    {
      "cell_type": "markdown",
      "metadata": {
        "id": "view-in-github",
        "colab_type": "text"
      },
      "source": [
        "<a href=\"https://colab.research.google.com/github/mengxihe/Deep-Learning/blob/main/ProgPractice1_stud.ipynb\" target=\"_parent\"><img src=\"https://colab.research.google.com/assets/colab-badge.svg\" alt=\"Open In Colab\"/></a>"
      ]
    },
    {
      "cell_type": "markdown",
      "metadata": {
        "id": "ZJDx1ruiA2pZ"
      },
      "source": [
        "# Programming Practice I\n",
        "## 1 Overview\n",
        "In this practice, you can learn the basic knowledge of Python. In particular, by doing this practice, it is expected that you can:\n",
        "* get familiar with the basic syntax of Python;\n",
        "* get the basic idea of NumPy;\n",
        "* get the basic idea of Matplotlib for visualization."
      ]
    },
    {
      "cell_type": "markdown",
      "metadata": {
        "id": "rrxD7kJHA2pf"
      },
      "source": [
        "## 2 Tasks\n",
        "In this section, you can start the programming practice task by task. Please pay attention to the hints as well as the API documents online.\n",
        "\n",
        "### 2.1 Import Packages"
      ]
    },
    {
      "cell_type": "code",
      "metadata": {
        "ExecuteTime": {
          "end_time": "2021-03-16T09:28:55.967898Z",
          "start_time": "2021-03-16T09:28:55.647707Z"
        },
        "id": "5z95DGUqA2pg"
      },
      "source": [
        "# TODO: import packages\n",
        "import numpy as np\n",
        "from matplotlib import pyplot as plt\n"
      ],
      "execution_count": 8,
      "outputs": []
    },
    {
      "cell_type": "markdown",
      "metadata": {
        "id": "ABMq1xR8A2pg"
      },
      "source": [
        "### 2.2 1D Dataset"
      ]
    },
    {
      "cell_type": "code",
      "metadata": {
        "ExecuteTime": {
          "end_time": "2021-03-16T09:28:55.992192Z",
          "start_time": "2021-03-16T09:28:55.968890Z"
        },
        "colab": {
          "base_uri": "https://localhost:8080/"
        },
        "id": "jnwX42ZIA2ph",
        "outputId": "16eed1b5-1775-4991-b094-c9c2f2dc9cde"
      },
      "source": [
        "# TODO: define datasets\n",
        "# X = \n",
        "xi = np.linspace(-1,1, num=5)\n",
        "#print(xi)\n",
        "\n",
        "# Y = \n",
        "yi = 0.1*xi+np.power(xi,2)+np.power(xi,3)\n",
        "print(yi)\n",
        "def create_toy_dataset(n_samples=100):\n",
        " # TODO \n",
        "  xi=np.linspace(-1,1,n_samples)\n",
        "  yi = 0.1*xi+np.power(xi,2)+np.power(xi,3)\n",
        "  return xi,yi\n",
        " # return X, Y\n",
        "\n",
        "class dataset():\n",
        "    # TODO\n",
        "  def __init__(self, n_samples=100):\n",
        "    self.n_samples=n_samples\n",
        "\n",
        "  def load_data(self):\n",
        "    xi=np.linspace(-1,1,self.n_samples)\n",
        "    return xi\n",
        "    \n",
        "myDataset=dataset(5)\n",
        "myDataset.load_data()"
      ],
      "execution_count": 7,
      "outputs": [
        {
          "output_type": "stream",
          "text": [
            "[-0.1    0.075  0.     0.425  2.1  ]\n"
          ],
          "name": "stdout"
        },
        {
          "output_type": "execute_result",
          "data": {
            "text/plain": [
              "array([-1. , -0.5,  0. ,  0.5,  1. ])"
            ]
          },
          "metadata": {
            "tags": []
          },
          "execution_count": 7
        }
      ]
    },
    {
      "cell_type": "markdown",
      "metadata": {
        "id": "s_FEfuCtA2pj"
      },
      "source": [
        "### 2.3 Plot the 1D Dataset"
      ]
    },
    {
      "cell_type": "code",
      "metadata": {
        "ExecuteTime": {
          "end_time": "2021-03-16T09:28:56.117662Z",
          "start_time": "2021-03-16T09:28:55.996143Z"
        },
        "colab": {
          "base_uri": "https://localhost:8080/",
          "height": 320
        },
        "id": "E2uu3ElCA2pj",
        "outputId": "08f8ce04-9c9b-4d5d-957f-b41acd8425d5"
      },
      "source": [
        "# TODO: plotting\n",
        "plt.figure(figsize=(5,5))\n",
        "plt.plot(xi,yi)\n",
        "plt.show()"
      ],
      "execution_count": 9,
      "outputs": [
        {
          "output_type": "display_data",
          "data": {
            "image/png": "[encoded data removed]",
            "text/plain": [
              "<Figure size 360x360 with 1 Axes>"
            ]
          },
          "metadata": {
            "tags": [],
            "needs_background": "light"
          }
        }
      ]
    },
    {
      "cell_type": "markdown",
      "metadata": {
        "id": "vXoKOyqPA2pj"
      },
      "source": [
        "### 2.4 2D Dataset"
      ]
    },
    {
      "cell_type": "code",
      "metadata": {
        "ExecuteTime": {
          "end_time": "2021-03-16T09:28:56.123131Z",
          "start_time": "2021-03-16T09:28:56.119151Z"
        },
        "colab": {
          "base_uri": "https://localhost:8080/"
        },
        "id": "OAyMjfNUA2pk",
        "outputId": "d2ae7184-2a42-42bd-b189-6600e43937d6"
      },
      "source": [
        "# TODO: define 2D dataset\n",
        "# X = \n",
        "# Y = \n",
        "np.random.seed(42)\n",
        "rNumber = 30\n",
        "xi1=np.random.standard_normal(rNumber)\n",
        "xi2=np.random.standard_normal(rNumber)\n",
        "xt=np.array([xi1,xi2])\n",
        "xi=xt.T\n",
        "#print(xi)\n",
        "ye=[np.empty(rNumber-1)]\n",
        "#ye=np.array([])\n",
        "for i in range(rNumber-1):\n",
        "  y= np.linalg.norm(xi[i])**2\n",
        "  yp=np.append(ye,y)\n",
        "#print(yp)\n",
        "\n",
        "yi=np.where(yp<1,0,1)\n",
        "print(yi)\n",
        "#print(xi)\n",
        "class2 = xi[~yi.astype(bool)]\n",
        "class1 = xi[yi.astype(bool)]\n",
        "print(class2)\n",
        "print(class1)\n",
        "\n",
        "\n",
        "#for i in range(len(xi)):\n",
        "  #y= np.linalg.norm(xi[int(i)])**2\n",
        "  #yi=np.append(ye,y)\n",
        "#print(yi)"
      ],
      "execution_count": 190,
      "outputs": [
        {
          "output_type": "stream",
          "text": [
            "[0 0 0 0 0 0 0 0 0 0 0 0 0 0 0 1 0 1 0 0 1 0 1 0 0 0 0 0 0 0]\n",
            "[[ 0.49671415 -0.60170661]\n",
            " [-0.1382643   1.85227818]\n",
            " [ 0.64768854 -0.01349722]\n",
            " [ 1.52302986 -1.05771093]\n",
            " [-0.23415337  0.82254491]\n",
            " [-0.23413696 -1.22084365]\n",
            " [ 1.57921282  0.2088636 ]\n",
            " [ 0.76743473 -1.95967012]\n",
            " [-0.46947439 -1.32818605]\n",
            " [ 0.54256004  0.19686124]\n",
            " [-0.46341769  0.73846658]\n",
            " [-0.46572975  0.17136828]\n",
            " [ 0.24196227 -0.11564828]\n",
            " [-1.91328024 -0.3011037 ]\n",
            " [-1.72491783 -1.47852199]\n",
            " [-1.01283112 -0.46063877]\n",
            " [-0.90802408  0.34361829]\n",
            " [-1.4123037  -1.76304016]\n",
            " [-0.2257763  -0.38508228]\n",
            " [-1.42474819  0.61167629]\n",
            " [-0.54438272  1.03099952]\n",
            " [ 0.11092259  0.93128012]\n",
            " [-1.15099358 -0.83921752]\n",
            " [ 0.37569802 -0.30921238]\n",
            " [-0.60063869  0.33126343]\n",
            " [-0.29169375  0.97554513]]\n",
            "[[-0.56228753 -0.71984421]\n",
            " [ 0.31424733  1.05712223]\n",
            " [ 1.46564877  0.32408397]\n",
            " [ 0.0675282  -0.676922  ]]\n"
          ],
          "name": "stdout"
        }
      ]
    },
    {
      "cell_type": "markdown",
      "metadata": {
        "id": "egchATVXA2pk"
      },
      "source": [
        "### 2.5 Plot the 2D Dataset"
      ]
    },
    {
      "cell_type": "code",
      "metadata": {
        "ExecuteTime": {
          "end_time": "2021-03-16T09:28:56.274959Z",
          "start_time": "2021-03-16T09:28:56.124607Z"
        },
        "colab": {
          "base_uri": "https://localhost:8080/",
          "height": 321
        },
        "id": "D5CS-wZ_A2pk",
        "outputId": "e0952b73-3f5b-448d-a131-108cd273055b"
      },
      "source": [
        "# TODO: plotting\n",
        "\n",
        "#a[mask].tolist()\n",
        "#class1=xi[yt[:,0]]\n",
        "#print(b[a[:, 0]])\n",
        "#print(class1)\n",
        "plt.figure(figsize=(5,5))\n",
        "plt.scatter(class1[:,0],class1[:,1], color='r',marker='^', label='class1')\n",
        "plt.scatter(class2[:,0],class2[:,1],color='b',marker='o',label='class2')\n",
        "plt.legend()\n",
        "plt.show()"
      ],
      "execution_count": 157,
      "outputs": [
        {
          "output_type": "display_data",
          "data": {
            "image/png": "[encoded data removed]",
            "text/plain": [
              "<Figure size 360x360 with 1 Axes>"
            ]
          },
          "metadata": {
            "tags": [],
            "needs_background": "light"
          }
        }
      ]
    },
    {
      "cell_type": "markdown",
      "metadata": {
        "ExecuteTime": {
          "end_time": "2021-03-15T16:23:01.361072Z",
          "start_time": "2021-03-15T16:23:01.356636Z"
        },
        "id": "uuEucsSSA2pk"
      },
      "source": [
        "### 2.6 A Simple Convolution"
      ]
    },
    {
      "cell_type": "code",
      "metadata": {
        "ExecuteTime": {
          "end_time": "2021-03-16T09:28:56.285370Z",
          "start_time": "2021-03-16T09:28:56.276421Z"
        },
        "id": "fCUDnd1qA2pk",
        "colab": {
          "base_uri": "https://localhost:8080/"
        },
        "outputId": "f273c76a-5628-449b-8970-d263765f62f5"
      },
      "source": [
        "# TODO: simple convolution\n",
        "# X = \n",
        "#X=np.array([0,1,2,3];[4,5,6,7];[8,9,10,11];[12,13,14,15])\n",
        "#A = np.array([[1, 2, 3, 4], [5, 6, 7, 8],[9, 10, 11, 12],[13,14,15,16]])\n",
        "X = np.arange(16).reshape(4,4)\n",
        "#print(X)\n",
        "# W = \n",
        "W=np.ones((2,2))\n",
        "#print(W)\n",
        "# X_conv => this is the output of the convolution \n",
        "X_conv=np.zeros((3,3))\n",
        "print(X[0:2,0:2])\n",
        "print(X[1:3,2:4])\n",
        "\n",
        "X_conv[0,0]=np.sum(X[0:2,0:2]*W)\n",
        "X_conv[0,1]=np.sum(X[0:2,1:3]*W)\n",
        "X_conv[0,2]=np.sum(X[0:2,2:4]*W)\n",
        "X_conv[1,0]=np.sum(X[1:3,0:2]*W)\n",
        "X_conv[1,1]=np.sum(X[1:3,1:3]*W)\n",
        "X_conv[1,2]=np.sum(X[1:3,2:4]*W)\n",
        "X_conv[2,0]=np.sum(X[2:4,0:2]*W)\n",
        "X_conv[2,1]=np.sum(X[2:4,1:3]*W)\n",
        "X_conv[2,2]=np.sum(X[2:4,2:4]*W)\n",
        "print(X_conv)\n",
        "def convolve(X, W):\n",
        "  X_conv=np.zeros((3,3))\n",
        "  X_conv[0,0]=np.sum(X[0:2,0:2]*W)\n",
        "  X_conv[0,1]=np.sum(X[0:2,1:3]*W)\n",
        "  X_conv[0,2]=np.sum(X[0:2,2:4]*W)\n",
        "  X_conv[1,0]=np.sum(X[1:3,0:2]*W)\n",
        "  X_conv[1,1]=np.sum(X[1:3,1:3]*W)\n",
        "  X_conv[1,2]=np.sum(X[1:3,2:4]*W)\n",
        "  X_conv[2,0]=np.sum(X[2:4,0:2]*W)\n",
        "  X_conv[2,1]=np.sum(X[2:4,1:3]*W)\n",
        "  X_conv[2,2]=np.sum(X[2:4,2:4]*W)\n",
        "  return X_conv\n",
        "    # TODO\n",
        "    # return X_conv\n",
        "\n",
        "convolve(X,W)"
      ],
      "execution_count": 188,
      "outputs": [
        {
          "output_type": "stream",
          "text": [
            "[[0 1]\n",
            " [4 5]]\n",
            "[[ 6  7]\n",
            " [10 11]]\n",
            "[[10. 14. 18.]\n",
            " [26. 30. 34.]\n",
            " [42. 46. 50.]]\n"
          ],
          "name": "stdout"
        },
        {
          "output_type": "execute_result",
          "data": {
            "text/plain": [
              "array([[10., 14., 18.],\n",
              "       [26., 30., 34.],\n",
              "       [42., 46., 50.]])"
            ]
          },
          "metadata": {
            "tags": []
          },
          "execution_count": 188
        }
      ]
    },
    {
      "cell_type": "code",
      "metadata": {
        "id": "HRsrPTBDA2pl"
      },
      "source": [
        ""
      ],
      "execution_count": null,
      "outputs": []
    }
  ]
}