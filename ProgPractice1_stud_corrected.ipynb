{
  "nbformat": 4,
  "nbformat_minor": 0,
  "metadata": {
    "kernelspec": {
      "display_name": "Python 3",
      "language": "python",
      "name": "python3"
    },
    "language_info": {
      "codemirror_mode": {
        "name": "ipython",
        "version": 3
      },
      "file_extension": ".py",
      "mimetype": "text/x-python",
      "name": "python",
      "nbconvert_exporter": "python",
      "pygments_lexer": "ipython3",
      "version": "3.8.6"
    },
    "toc": {
      "base_numbering": 1,
      "nav_menu": {},
      "number_sections": false,
      "sideBar": false,
      "skip_h1_title": false,
      "title_cell": "Table of Contents",
      "title_sidebar": "Contents",
      "toc_cell": false,
      "toc_position": {
        "height": "830.4px",
        "left": "22px",
        "top": "121.6px",
        "width": "409.6px"
      },
      "toc_section_display": true,
      "toc_window_display": true
    },
    "colab": {
      "name": "ProgPractice1-stud.ipynb",
      "provenance": [],
      "collapsed_sections": [],
      "include_colab_link": true
    }
  },
  "cells": [
    {
      "cell_type": "markdown",
      "metadata": {
        "id": "view-in-github",
        "colab_type": "text"
      },
      "source": [
        "<a href=\"https://colab.research.google.com/github/mengxihe/Deep-Learning/blob/main/ProgPractice1_stud_corrected.ipynb\" target=\"_parent\"><img src=\"https://colab.research.google.com/assets/colab-badge.svg\" alt=\"Open In Colab\"/></a>"
      ]
    },
    {
      "cell_type": "markdown",
      "metadata": {
        "id": "ZJDx1ruiA2pZ"
      },
      "source": [
        "# Programming Practice I\n",
        "## 1 Overview\n",
        "In this practice, you can learn the basic knowledge of Python. In particular, by doing this practice, it is expected that you can:\n",
        "* get familiar with the basic syntax of Python;\n",
        "* get the basic idea of NumPy;\n",
        "* get the basic idea of Matplotlib for visualization."
      ]
    },
    {
      "cell_type": "markdown",
      "metadata": {
        "id": "rrxD7kJHA2pf"
      },
      "source": [
        "## 2 Tasks\n",
        "In this section, you can start the programming practice task by task. Please pay attention to the hints as well as the API documents online.\n",
        "\n",
        "### 2.1 Import Packages"
      ]
    },
    {
      "cell_type": "code",
      "metadata": {
        "ExecuteTime": {
          "end_time": "2021-03-16T09:28:55.967898Z",
          "start_time": "2021-03-16T09:28:55.647707Z"
        },
        "id": "5z95DGUqA2pg"
      },
      "source": [
        "# TODO: import packages\n",
        "import numpy as np\n",
        "from matplotlib import pyplot as plt\n"
      ],
      "execution_count": 43,
      "outputs": []
    },
    {
      "cell_type": "markdown",
      "metadata": {
        "id": "ABMq1xR8A2pg"
      },
      "source": [
        "### 2.2 1D Dataset"
      ]
    },
    {
      "cell_type": "code",
      "metadata": {
        "ExecuteTime": {
          "end_time": "2021-03-16T09:28:55.992192Z",
          "start_time": "2021-03-16T09:28:55.968890Z"
        },
        "colab": {
          "base_uri": "https://localhost:8080/"
        },
        "id": "jnwX42ZIA2ph",
        "outputId": "4a80c171-ce04-49f0-bb63-3e8f83904459"
      },
      "source": [
        "# TODO: define datasets\n",
        "# X = \n",
        "xi = np.linspace(-1,1, num=100)\n",
        "#print(xi)\n",
        "\n",
        "# Y = \n",
        "yi = 0.1*xi+np.power(xi,2)+np.power(xi,3)\n",
        "#print(yi)\n",
        "def create_toy_dataset(n_samples=100):\n",
        " # TODO \n",
        "  xi=np.linspace(-1,1,n_samples)\n",
        "  yi = 0.1*xi+np.power(xi,2)+np.power(xi,3)\n",
        "  return xi,yi\n",
        " # return X, Y\n",
        "\n",
        "class dataset():\n",
        "    # TODO\n",
        "  def __init__(self, n_samples=100):\n",
        "    self.n_samples=n_samples\n",
        "\n",
        "  def load_data(self):\n",
        "    self.xi=np.linspace(-1,1,self.n_samples)\n",
        "    self.yi=0.1*self.xi+np.power(self.xi,2)+np.power(self.xi,3)\n",
        "    return self.yi\n",
        "    \n",
        "myDataset=dataset()\n",
        "myDataset.load_data()\n"
      ],
      "execution_count": 19,
      "outputs": [
        {
          "output_type": "execute_result",
          "data": {
            "text/plain": [
              "array([-1.00000000e-01, -7.85857761e-02, -5.87545695e-02, -4.04569107e-02,\n",
              "       -2.36433306e-02, -8.26435975e-03,  5.72947102e-03,  1.83876310e-02,\n",
              "        2.97595896e-02,  3.98948159e-02,  4.88427794e-02,  5.66529492e-02,\n",
              "        6.33747948e-02,  6.90577853e-02,  7.37513900e-02,  7.75050783e-02,\n",
              "        8.03683195e-02,  8.23905827e-02,  8.36213373e-02,  8.41100527e-02,\n",
              "        8.39061980e-02,  8.30592426e-02,  8.16186557e-02,  7.96339067e-02,\n",
              "        7.71544648e-02,  7.42297993e-02,  7.09093795e-02,  6.72426747e-02,\n",
              "        6.32791542e-02,  5.90682872e-02,  5.46595431e-02,  5.01023911e-02,\n",
              "        4.54463006e-02,  4.07407407e-02,  3.60351809e-02,  3.13790904e-02,\n",
              "        2.68219384e-02,  2.24131943e-02,  1.82023273e-02,  1.42388068e-02,\n",
              "        1.05721020e-02,  7.25168221e-03,  4.32701672e-03,  1.84757482e-03,\n",
              "       -1.37174211e-04, -1.57776108e-03, -2.42471650e-03, -2.62857119e-03,\n",
              "       -2.13985586e-03, -9.09101215e-04,  1.11316203e-03,  3.97640315e-03,\n",
              "        7.73009145e-03,  1.24236962e-02,  1.81066867e-02,  2.48285322e-02,\n",
              "        3.26387021e-02,  4.15866656e-02,  5.17218919e-02,  6.30938505e-02,\n",
              "        7.57520105e-02,  8.97458412e-02,  1.05124812e-01,  1.21938392e-01,\n",
              "        1.40236051e-01,  1.60067258e-01,  1.81481481e-01,  2.04528192e-01,\n",
              "        2.29256858e-01,  2.55716949e-01,  2.83957935e-01,  3.14029284e-01,\n",
              "        3.45980466e-01,  3.79860950e-01,  4.15720206e-01,  4.53607702e-01,\n",
              "        4.93572909e-01,  5.35665295e-01,  5.79934330e-01,  6.26429482e-01,\n",
              "        6.75200222e-01,  7.26296018e-01,  7.79766340e-01,  8.35660657e-01,\n",
              "        8.94028439e-01,  9.54919154e-01,  1.01838227e+00,  1.08446726e+00,\n",
              "        1.15322359e+00,  1.22470074e+00,  1.29894816e+00,  1.37601533e+00,\n",
              "        1.45595172e+00,  1.53880680e+00,  1.62463004e+00,  1.71347090e+00,\n",
              "        1.80537886e+00,  1.90040338e+00,  1.99859394e+00,  2.10000000e+00])"
            ]
          },
          "metadata": {
            "tags": []
          },
          "execution_count": 19
        }
      ]
    },
    {
      "cell_type": "markdown",
      "metadata": {
        "id": "s_FEfuCtA2pj"
      },
      "source": [
        "### 2.3 Plot the 1D Dataset"
      ]
    },
    {
      "cell_type": "code",
      "metadata": {
        "ExecuteTime": {
          "end_time": "2021-03-16T09:28:56.117662Z",
          "start_time": "2021-03-16T09:28:55.996143Z"
        },
        "colab": {
          "base_uri": "https://localhost:8080/",
          "height": 320
        },
        "id": "E2uu3ElCA2pj",
        "outputId": "4e77ac6e-7e11-4799-deea-a93c111bc6cf"
      },
      "source": [
        "# TODO: plotting\n",
        "plt.figure(figsize=(5,5))\n",
        "plt.plot(xi,yi)\n",
        "#this line was missing\n",
        "plt.xticks(ticks=np.linspace(-1,1,5), labels=np.linspace(-1,1,5))\n",
        "plt.show()"
      ],
      "execution_count": 21,
      "outputs": [
        {
          "output_type": "display_data",
          "data": {
            "image/png": "[encoded data removed]",
            "text/plain": [
              "<Figure size 360x360 with 1 Axes>"
            ]
          },
          "metadata": {
            "tags": [],
            "needs_background": "light"
          }
        }
      ]
    },
    {
      "cell_type": "markdown",
      "metadata": {
        "id": "vXoKOyqPA2pj"
      },
      "source": [
        "### 2.4 2D Dataset"
      ]
    },
    {
      "cell_type": "code",
      "metadata": {
        "ExecuteTime": {
          "end_time": "2021-03-16T09:28:56.123131Z",
          "start_time": "2021-03-16T09:28:56.119151Z"
        },
        "colab": {
          "base_uri": "https://localhost:8080/"
        },
        "id": "OAyMjfNUA2pk",
        "outputId": "589a2d8f-498c-46bd-f3ce-9604e86e1461"
      },
      "source": [
        "#np.random.seed(42)\n",
        "#rNumber = 30\n",
        "#xi1=np.random.standard_normal(rNumber)\n",
        "#xi2=np.random.standard_normal(rNumber)\n",
        "#xt=np.array([xi1,xi2])\n",
        "#xi=xt.T\n",
        "#print(xi)\n",
        "#ye=[np.empty(rNumber-1)]\n",
        "#ye=np.array([])\n",
        "#for i in range(rNumber-1):\n",
        "  #y= np.linalg.norm(xi[i])**2\n",
        "  #yp=np.append(ye,y)\n",
        "#print(yp)\n",
        "\n",
        "#yi=np.where(yp<1,0,1)\n",
        "#print(yi)\n",
        "#print(xi)\n",
        "#class2 = xi[~yi.astype(bool)]\n",
        "#class1 = xi[yi.astype(bool)]\n",
        "#print(class2)\n",
        "#print(class1)\n",
        "\n",
        "RandomState=np.random.RandomState(42)\n",
        "X=RandomState.randn(100,2) #generate a 2d dataset instead of using random.standard_normal which generate an 1d data\n",
        "#print(X)\n",
        "Y=np.ones(100)\n",
        "Y[np.sum(np.square(X), axis=1)<1]=0\n",
        "print(Y)\n"
      ],
      "execution_count": 41,
      "outputs": [
        {
          "output_type": "stream",
          "text": [
            "[0. 1. 0. 1. 0. 0. 1. 1. 1. 1. 1. 1. 0. 1. 0. 1. 1. 1. 1. 1. 0. 0. 1. 1.\n",
            " 1. 0. 0. 1. 0. 1. 0. 1. 1. 1. 0. 1. 1. 1. 0. 1. 0. 1. 0. 0. 0. 0. 0. 1.\n",
            " 0. 0. 1. 0. 0. 1. 0. 1. 1. 0. 1. 1. 1. 1. 1. 1. 0. 1. 1. 1. 0. 1. 1. 1.\n",
            " 0. 1. 0. 0. 0. 0. 1. 1. 1. 1. 1. 1. 0. 1. 0. 0. 1. 1. 1. 1. 0. 0. 1. 0.\n",
            " 1. 0. 0. 1.]\n"
          ],
          "name": "stdout"
        }
      ]
    },
    {
      "cell_type": "markdown",
      "metadata": {
        "id": "egchATVXA2pk"
      },
      "source": [
        "### 2.5 Plot the 2D Dataset"
      ]
    },
    {
      "cell_type": "code",
      "metadata": {
        "ExecuteTime": {
          "end_time": "2021-03-16T09:28:56.274959Z",
          "start_time": "2021-03-16T09:28:56.124607Z"
        },
        "colab": {
          "base_uri": "https://localhost:8080/",
          "height": 320
        },
        "id": "D5CS-wZ_A2pk",
        "outputId": "97b1d73b-3b09-46b4-aa51-5fbb4cbc7f34"
      },
      "source": [
        "plt.figure(figsize=(5,5))\n",
        "#plt.scatter(class1[:,0],class1[:,1], color='r',marker='^', label='class1')\n",
        "#plt.scatter(class2[:,0],class2[:,1],color='b',marker='o',label='class2')\n",
        "plt.scatter(X[Y==0,0], X[Y==0,1],color='b',marker='o', label='class 0')\n",
        "plt.scatter(X[Y==1,0],X[Y==1,1], color='r',marker='^',label='class 1')\n",
        "plt.legend()\n",
        "plt.show()"
      ],
      "execution_count": 48,
      "outputs": [
        {
          "output_type": "display_data",
          "data": {
            "image/png": "[encoded data removed]",
            "text/plain": [
              "<Figure size 360x360 with 1 Axes>"
            ]
          },
          "metadata": {
            "tags": [],
            "needs_background": "light"
          }
        }
      ]
    },
    {
      "cell_type": "markdown",
      "metadata": {
        "ExecuteTime": {
          "end_time": "2021-03-15T16:23:01.361072Z",
          "start_time": "2021-03-15T16:23:01.356636Z"
        },
        "id": "uuEucsSSA2pk"
      },
      "source": [
        "### 2.6 A Simple Convolution"
      ]
    },
    {
      "cell_type": "code",
      "metadata": {
        "ExecuteTime": {
          "end_time": "2021-03-16T09:28:56.285370Z",
          "start_time": "2021-03-16T09:28:56.276421Z"
        },
        "id": "fCUDnd1qA2pk",
        "colab": {
          "base_uri": "https://localhost:8080/"
        },
        "outputId": "3df4affd-4767-4131-bffd-6adf3672b937"
      },
      "source": [
        "X = np.arange(16).reshape(4,4)\n",
        "\n",
        "W=np.ones((2,2))\n",
        "X_conv=np.zeros(shape=(3,3))\n",
        "#print(X[0:2,0:2])\n",
        "#print(X[1:3,2:4])\n",
        "for i in range(X_conv.shape[0]):\n",
        "  for j in range(X_conv.shape[1]):\n",
        "    X_conv[i,j]=np.sum(X[i:(i+2),j:(j+2)]*W)\n",
        "\n",
        "print(X_conv)\n",
        "#X_conv[0,0]=np.sum(X[0:2,0:2]*W)\n",
        "#X_conv[0,1]=np.sum(X[0:2,1:3]*W)\n",
        "#X_conv[0,2]=np.sum(X[0:2,2:4]*W)\n",
        "#X_conv[1,0]=np.sum(X[1:3,0:2]*W)\n",
        "#X_conv[1,1]=np.sum(X[1:3,1:3]*W)\n",
        "#X_conv[1,2]=np.sum(X[1:3,2:4]*W)\n",
        "#X_conv[2,0]=np.sum(X[2:4,0:2]*W)\n",
        "#X_conv[2,1]=np.sum(X[2:4,1:3]*W)\n",
        "#X_conv[2,2]=np.sum(X[2:4,2:4]*W)\n",
        "#print(X_conv)\n",
        "#def convolve(X, W):\n",
        "  #X_conv=np.zeros((3,3))\n",
        "  #X_conv[0,0]=np.sum(X[0:2,0:2]*W)\n",
        "  #X_conv[0,1]=np.sum(X[0:2,1:3]*W)\n",
        "  #X_conv[0,2]=np.sum(X[0:2,2:4]*W)\n",
        "  #X_conv[1,0]=np.sum(X[1:3,0:2]*W)\n",
        "  #X_conv[1,1]=np.sum(X[1:3,1:3]*W)\n",
        "  #X_conv[1,2]=np.sum(X[1:3,2:4]*W)\n",
        "  #X_conv[2,0]=np.sum(X[2:4,0:2]*W)\n",
        "  #X_conv[2,1]=np.sum(X[2:4,1:3]*W)\n",
        "  #X_conv[2,2]=np.sum(X[2:4,2:4]*W)\n",
        "  #return X_conv\n",
        "#convolve(X,W)\n",
        "\n",
        "def convolve(X, W):\n",
        "  (XHeight, XWidth)=X.shape\n",
        "  (WHeight, WWidth)=W.shape\n",
        "\n",
        "  X_convHeight, X_convWidth = XHeight - WWidth + 1, XWidth - WWidth + 1\n",
        "  X_conv = np.zeros(shape=(X_convHeight, X_convWidth))\n",
        "\n",
        "  for i in range(X_conv.shape[0]):\n",
        "    for j in range(X_conv.shape[1]):\n",
        "      X_conv[i,j]=np.sum(X[i:(i+WHeight), j:(j+WWidth)] * W)\n",
        "  return X_conv\n",
        "\n",
        "convolve(X, W)"
      ],
      "execution_count": 68,
      "outputs": [
        {
          "output_type": "stream",
          "text": [
            "[[10. 14. 18.]\n",
            " [26. 30. 34.]\n",
            " [42. 46. 50.]]\n"
          ],
          "name": "stdout"
        },
        {
          "output_type": "execute_result",
          "data": {
            "text/plain": [
              "array([[10., 14., 18.],\n",
              "       [26., 30., 34.],\n",
              "       [42., 46., 50.]])"
            ]
          },
          "metadata": {
            "tags": []
          },
          "execution_count": 68
        }
      ]
    },
    {
      "cell_type": "code",
      "metadata": {
        "id": "HRsrPTBDA2pl"
      },
      "source": [
        ""
      ],
      "execution_count": null,
      "outputs": []
    }
  ]
}